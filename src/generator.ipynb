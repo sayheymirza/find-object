{
 "cells": [
  {
   "cell_type": "code",
   "execution_count": 117,
   "metadata": {},
   "outputs": [],
   "source": [
    "from PIL import Image\n",
    "import random\n",
    "import os"
   ]
  },
  {
   "cell_type": "code",
   "execution_count": 118,
   "metadata": {},
   "outputs": [],
   "source": [
    "# assets directory\n",
    "assets_dir = os.path.join(\"..\", \"assets\")\n",
    "\n",
    "# folders for generated images\n",
    "folders = [\"history\", \"bedroom\"]\n",
    "\n",
    "# output size\n",
    "output_size = (2048, 2048)\n",
    "\n",
    "# image size\n",
    "image_size = (32, 32)\n",
    "\n",
    "# countable\n",
    "countable = (20, 30)"
   ]
  },
  {
   "cell_type": "code",
   "execution_count": 119,
   "metadata": {},
   "outputs": [],
   "source": [
    "to_find = {\"dl.beatsnoop.com-4913950c9dcada6.png\": (0, 0)}"
   ]
  },
  {
   "cell_type": "code",
   "execution_count": 120,
   "metadata": {},
   "outputs": [],
   "source": [
    "# generate counts of each image \n",
    "def generate_counts():\n",
    "    output = []\n",
    "\n",
    "    # get all images name with os walk\n",
    "    for folder in folders:\n",
    "        for root, dirs, files in os.walk(os.path.join(assets_dir, folder)):\n",
    "            for file in files:\n",
    "                count = 1\n",
    "\n",
    "                if not file in to_find:\n",
    "                    # generate random number between 1 and 10\n",
    "                    count = random.randint(countable[0], countable[1])\n",
    "\n",
    "\n",
    "                for i in range(count):\n",
    "                    output.append(os.path.join(assets_dir, folder, file))\n",
    "\n",
    "    return output"
   ]
  },
  {
   "cell_type": "code",
   "execution_count": 121,
   "metadata": {},
   "outputs": [],
   "source": [
    "result = generate_counts()\n"
   ]
  },
  {
   "cell_type": "code",
   "execution_count": 122,
   "metadata": {},
   "outputs": [],
   "source": [
    "positions = []\n",
    "\n",
    "def generate_position():\n",
    "    image_width = output_size[0]\n",
    "    image_height = output_size[1]\n",
    "    # generate random x and y\n",
    "    x = random.randint(0, image_width - 1)\n",
    "    y = random.randint(0, image_height - 1)\n",
    "\n",
    "    # x position must be not out of range\n",
    "    if x + image_size[0] > image_width:\n",
    "        x = image_width - image_size[0]\n",
    "\n",
    "    # y position must be not out of range\n",
    "    if y + image_size[1] > image_height:\n",
    "        y = image_height - image_size[1]\n",
    "\n",
    "    return (x, y)\n"
   ]
  },
  {
   "cell_type": "code",
   "execution_count": 123,
   "metadata": {},
   "outputs": [],
   "source": [
    "def generate_image():\n",
    "    image_width = output_size[0]\n",
    "    image_height = output_size[1]\n",
    "\n",
    "    canvas = Image.new(\"RGB\", (image_width, image_height), \"white\")\n",
    "\n",
    "    for level in range(len(result)):\n",
    "        image = Image.open(result[level])\n",
    "\n",
    "        image.convert(\"RGBA\")\n",
    "\n",
    "        # resize image to image_size without changing losing pixels\n",
    "        image = image.resize(image_size, Image.Resampling.LANCZOS)\n",
    "\n",
    "        # generate random position\n",
    "        x, y = generate_position()\n",
    "\n",
    "        filename = result[level].split(\"\\\\\")[-1]\n",
    "\n",
    "        # if level image is in to_find, set x and y\n",
    "        if filename in to_find:\n",
    "            to_find[filename] = (x, y)\n",
    "        \n",
    "        # paste image to canvas\n",
    "        canvas.paste(image, (x, y), mask=image)\n",
    "\n",
    "            \n",
    "    return canvas"
   ]
  },
  {
   "cell_type": "code",
   "execution_count": 124,
   "metadata": {},
   "outputs": [],
   "source": [
    "# save image\n",
    "generate_image().save(\"generated.jpg\", format='JPEG', subsampling=0, quality=100)"
   ]
  },
  {
   "cell_type": "code",
   "execution_count": 125,
   "metadata": {},
   "outputs": [
    {
     "data": {
      "text/plain": [
       "{'dl.beatsnoop.com-4913950c9dcada6.png': (676, 164)}"
      ]
     },
     "execution_count": 125,
     "metadata": {},
     "output_type": "execute_result"
    }
   ],
   "source": [
    "to_find"
   ]
  }
 ],
 "metadata": {
  "kernelspec": {
   "display_name": "Python 3",
   "language": "python",
   "name": "python3"
  },
  "language_info": {
   "codemirror_mode": {
    "name": "ipython",
    "version": 3
   },
   "file_extension": ".py",
   "mimetype": "text/x-python",
   "name": "python",
   "nbconvert_exporter": "python",
   "pygments_lexer": "ipython3",
   "version": "3.11.5"
  }
 },
 "nbformat": 4,
 "nbformat_minor": 2
}
